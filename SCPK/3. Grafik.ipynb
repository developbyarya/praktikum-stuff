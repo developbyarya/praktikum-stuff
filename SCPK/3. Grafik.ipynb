{
 "cells": [
  {
   "cell_type": "code",
   "execution_count": 1,
   "metadata": {},
   "outputs": [],
   "source": [
    "import matplotlib.pyplot as plt\n",
    "import pandas as pd"
   ]
  },
  {
   "cell_type": "code",
   "execution_count": 2,
   "metadata": {},
   "outputs": [
    {
     "data": {
      "text/html": [
       "<div>\n",
       "<style scoped>\n",
       "    .dataframe tbody tr th:only-of-type {\n",
       "        vertical-align: middle;\n",
       "    }\n",
       "\n",
       "    .dataframe tbody tr th {\n",
       "        vertical-align: top;\n",
       "    }\n",
       "\n",
       "    .dataframe thead th {\n",
       "        text-align: right;\n",
       "    }\n",
       "</style>\n",
       "<table border=\"1\" class=\"dataframe\">\n",
       "  <thead>\n",
       "    <tr style=\"text-align: right;\">\n",
       "      <th></th>\n",
       "      <th>timestamp</th>\n",
       "      <th>open</th>\n",
       "      <th>high</th>\n",
       "      <th>low</th>\n",
       "      <th>close</th>\n",
       "      <th>volume</th>\n",
       "      <th>close_time</th>\n",
       "      <th>quote_asset_volume</th>\n",
       "      <th>trade_count</th>\n",
       "      <th>taker_buy_base_asset_volume</th>\n",
       "      <th>taker_buy_quote_asset_volume</th>\n",
       "      <th>ignore</th>\n",
       "    </tr>\n",
       "  </thead>\n",
       "  <tbody>\n",
       "    <tr>\n",
       "      <th>0</th>\n",
       "      <td>1738137600000</td>\n",
       "      <td>10.636</td>\n",
       "      <td>10.900</td>\n",
       "      <td>9.609</td>\n",
       "      <td>9.893</td>\n",
       "      <td>883986.28</td>\n",
       "      <td>1738141199999</td>\n",
       "      <td>8.947995e+06</td>\n",
       "      <td>38337</td>\n",
       "      <td>460685.34</td>\n",
       "      <td>4.661827e+06</td>\n",
       "      <td>0</td>\n",
       "    </tr>\n",
       "    <tr>\n",
       "      <th>1</th>\n",
       "      <td>1738141200000</td>\n",
       "      <td>9.891</td>\n",
       "      <td>10.478</td>\n",
       "      <td>9.437</td>\n",
       "      <td>9.655</td>\n",
       "      <td>1292366.81</td>\n",
       "      <td>1738144799999</td>\n",
       "      <td>1.284237e+07</td>\n",
       "      <td>63219</td>\n",
       "      <td>661437.90</td>\n",
       "      <td>6.573672e+06</td>\n",
       "      <td>0</td>\n",
       "    </tr>\n",
       "    <tr>\n",
       "      <th>2</th>\n",
       "      <td>1738144800000</td>\n",
       "      <td>9.656</td>\n",
       "      <td>9.858</td>\n",
       "      <td>9.100</td>\n",
       "      <td>9.759</td>\n",
       "      <td>1153439.80</td>\n",
       "      <td>1738148399999</td>\n",
       "      <td>1.100424e+07</td>\n",
       "      <td>69597</td>\n",
       "      <td>572467.40</td>\n",
       "      <td>5.469683e+06</td>\n",
       "      <td>0</td>\n",
       "    </tr>\n",
       "    <tr>\n",
       "      <th>3</th>\n",
       "      <td>1738148400000</td>\n",
       "      <td>9.759</td>\n",
       "      <td>9.857</td>\n",
       "      <td>9.283</td>\n",
       "      <td>9.640</td>\n",
       "      <td>658070.18</td>\n",
       "      <td>1738151999999</td>\n",
       "      <td>6.307598e+06</td>\n",
       "      <td>50421</td>\n",
       "      <td>337679.30</td>\n",
       "      <td>3.236772e+06</td>\n",
       "      <td>0</td>\n",
       "    </tr>\n",
       "    <tr>\n",
       "      <th>4</th>\n",
       "      <td>1738152000000</td>\n",
       "      <td>9.640</td>\n",
       "      <td>10.250</td>\n",
       "      <td>9.419</td>\n",
       "      <td>9.707</td>\n",
       "      <td>1109459.60</td>\n",
       "      <td>1738155599999</td>\n",
       "      <td>1.088006e+07</td>\n",
       "      <td>74921</td>\n",
       "      <td>570164.03</td>\n",
       "      <td>5.594300e+06</td>\n",
       "      <td>0</td>\n",
       "    </tr>\n",
       "  </tbody>\n",
       "</table>\n",
       "</div>"
      ],
      "text/plain": [
       "       timestamp    open    high    low  close      volume     close_time  \\\n",
       "0  1738137600000  10.636  10.900  9.609  9.893   883986.28  1738141199999   \n",
       "1  1738141200000   9.891  10.478  9.437  9.655  1292366.81  1738144799999   \n",
       "2  1738144800000   9.656   9.858  9.100  9.759  1153439.80  1738148399999   \n",
       "3  1738148400000   9.759   9.857  9.283  9.640   658070.18  1738151999999   \n",
       "4  1738152000000   9.640  10.250  9.419  9.707  1109459.60  1738155599999   \n",
       "\n",
       "   quote_asset_volume  trade_count  taker_buy_base_asset_volume  \\\n",
       "0        8.947995e+06        38337                    460685.34   \n",
       "1        1.284237e+07        63219                    661437.90   \n",
       "2        1.100424e+07        69597                    572467.40   \n",
       "3        6.307598e+06        50421                    337679.30   \n",
       "4        1.088006e+07        74921                    570164.03   \n",
       "\n",
       "   taker_buy_quote_asset_volume  ignore  \n",
       "0                  4.661827e+06       0  \n",
       "1                  6.573672e+06       0  \n",
       "2                  5.469683e+06       0  \n",
       "3                  3.236772e+06       0  \n",
       "4                  5.594300e+06       0  "
      ]
     },
     "execution_count": 2,
     "metadata": {},
     "output_type": "execute_result"
    }
   ],
   "source": [
    "columns = [\n",
    "    \"timestamp\", \"open\", \"high\", \"low\", \"close\", \"volume\",\n",
    "    \"close_time\", \"quote_asset_volume\", \"trade_count\",\n",
    "    \"taker_buy_base_asset_volume\", \"taker_buy_quote_asset_volume\", \"ignore\"\n",
    "]\n",
    "vvv = pd.read_json('VVVUSDT.json' )\n",
    "vvv.columns = columns\n",
    "vvv.head()\n"
   ]
  },
  {
   "cell_type": "code",
   "execution_count": 36,
   "metadata": {},
   "outputs": [
    {
     "name": "stdout",
     "output_type": "stream",
     "text": [
      "0\n"
     ]
    },
    {
     "data": {
      "text/plain": [
       "59"
      ]
     },
     "execution_count": 36,
     "metadata": {},
     "output_type": "execute_result"
    }
   ],
   "source": []
  },
  {
   "cell_type": "code",
   "execution_count": 8,
   "metadata": {},
   "outputs": [],
   "source": [
    "vvv[\"close_pct_change\"] = vvv[\"close\"].pct_change()"
   ]
  },
  {
   "cell_type": "code",
   "execution_count": 37,
   "metadata": {},
   "outputs": [],
   "source": [
    "vvv[\"ma_20\"] = vvv[\"close\"].rolling(20).mean()\n",
    "vvv[\"ma_50\"] = vvv[\"close\"].rolling(50).mean()\n",
    "vvv[\"ma_200\"] = vvv[\"close\"].rolling(200).mean()\n"
   ]
  },
  {
   "cell_type": "code",
   "execution_count": 22,
   "metadata": {},
   "outputs": [
    {
     "data": {
      "image/png": "[encoded data removed]",
      "text/plain": [
       "<Figure size 640x480 with 1 Axes>"
      ]
     },
     "metadata": {},
     "output_type": "display_data"
    }
   ],
   "source": [
    "plt.plot(vvv[\"ma_20\"])\n",
    "plt.plot(vvv[\"ma_50\"])\n",
    "plt.plot(vvv[\"ma_200\"])\n",
    "plt.show()"
   ]
  }
 ],
 "metadata": {
  "kernelspec": {
   "display_name": ".venv",
   "language": "python",
   "name": "python3"
  },
  "language_info": {
   "codemirror_mode": {
    "name": "ipython",
    "version": 3
   },
   "file_extension": ".py",
   "mimetype": "text/x-python",
   "name": "python",
   "nbconvert_exporter": "python",
   "pygments_lexer": "ipython3",
   "version": "3.13.1"
  }
 },
 "nbformat": 4,
 "nbformat_minor": 2
}
