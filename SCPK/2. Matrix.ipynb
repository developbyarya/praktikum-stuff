{
 "cells": [
  {
   "cell_type": "code",
   "execution_count": 15,
   "metadata": {},
   "outputs": [],
   "source": [
    "import pandas as pd\n",
    "# from matplotlib import pyplot as plt\n",
    "import numpy as np\n",
    "import scipy"
   ]
  },
  {
   "cell_type": "code",
   "execution_count": 6,
   "metadata": {},
   "outputs": [],
   "source": [
    "columns = [\n",
    "    \"timestamp\", \"open\", \"high\", \"low\", \"close\", \"volume\",\n",
    "    \"close_time\", \"quote_asset_volume\", \"trade_count\",\n",
    "    \"taker_buy_base_asset_volume\", \"taker_buy_quote_asset_volume\", \"ignore\"\n",
    "]\n"
   ]
  },
  {
   "cell_type": "code",
   "execution_count": 8,
   "metadata": {},
   "outputs": [
    {
     "data": {
      "text/html": [
       "<div>\n",
       "<style scoped>\n",
       "    .dataframe tbody tr th:only-of-type {\n",
       "        vertical-align: middle;\n",
       "    }\n",
       "\n",
       "    .dataframe tbody tr th {\n",
       "        vertical-align: top;\n",
       "    }\n",
       "\n",
       "    .dataframe thead th {\n",
       "        text-align: right;\n",
       "    }\n",
       "</style>\n",
       "<table border=\"1\" class=\"dataframe\">\n",
       "  <thead>\n",
       "    <tr style=\"text-align: right;\">\n",
       "      <th></th>\n",
       "      <th>timestamp</th>\n",
       "      <th>open</th>\n",
       "      <th>high</th>\n",
       "      <th>low</th>\n",
       "      <th>close</th>\n",
       "      <th>volume</th>\n",
       "      <th>close_time</th>\n",
       "      <th>quote_asset_volume</th>\n",
       "      <th>trade_count</th>\n",
       "      <th>taker_buy_base_asset_volume</th>\n",
       "      <th>taker_buy_quote_asset_volume</th>\n",
       "      <th>ignore</th>\n",
       "    </tr>\n",
       "  </thead>\n",
       "  <tbody>\n",
       "    <tr>\n",
       "      <th>0</th>\n",
       "      <td>1738137600000</td>\n",
       "      <td>10.636</td>\n",
       "      <td>10.900</td>\n",
       "      <td>9.609</td>\n",
       "      <td>9.893</td>\n",
       "      <td>883986.28</td>\n",
       "      <td>1738141199999</td>\n",
       "      <td>8.947995e+06</td>\n",
       "      <td>38337</td>\n",
       "      <td>460685.34</td>\n",
       "      <td>4.661827e+06</td>\n",
       "      <td>0</td>\n",
       "    </tr>\n",
       "    <tr>\n",
       "      <th>1</th>\n",
       "      <td>1738141200000</td>\n",
       "      <td>9.891</td>\n",
       "      <td>10.478</td>\n",
       "      <td>9.437</td>\n",
       "      <td>9.655</td>\n",
       "      <td>1292366.81</td>\n",
       "      <td>1738144799999</td>\n",
       "      <td>1.284237e+07</td>\n",
       "      <td>63219</td>\n",
       "      <td>661437.90</td>\n",
       "      <td>6.573672e+06</td>\n",
       "      <td>0</td>\n",
       "    </tr>\n",
       "    <tr>\n",
       "      <th>2</th>\n",
       "      <td>1738144800000</td>\n",
       "      <td>9.656</td>\n",
       "      <td>9.858</td>\n",
       "      <td>9.100</td>\n",
       "      <td>9.759</td>\n",
       "      <td>1153439.80</td>\n",
       "      <td>1738148399999</td>\n",
       "      <td>1.100424e+07</td>\n",
       "      <td>69597</td>\n",
       "      <td>572467.40</td>\n",
       "      <td>5.469683e+06</td>\n",
       "      <td>0</td>\n",
       "    </tr>\n",
       "    <tr>\n",
       "      <th>3</th>\n",
       "      <td>1738148400000</td>\n",
       "      <td>9.759</td>\n",
       "      <td>9.857</td>\n",
       "      <td>9.283</td>\n",
       "      <td>9.640</td>\n",
       "      <td>658070.18</td>\n",
       "      <td>1738151999999</td>\n",
       "      <td>6.307598e+06</td>\n",
       "      <td>50421</td>\n",
       "      <td>337679.30</td>\n",
       "      <td>3.236772e+06</td>\n",
       "      <td>0</td>\n",
       "    </tr>\n",
       "    <tr>\n",
       "      <th>4</th>\n",
       "      <td>1738152000000</td>\n",
       "      <td>9.640</td>\n",
       "      <td>10.250</td>\n",
       "      <td>9.419</td>\n",
       "      <td>9.707</td>\n",
       "      <td>1109459.60</td>\n",
       "      <td>1738155599999</td>\n",
       "      <td>1.088006e+07</td>\n",
       "      <td>74921</td>\n",
       "      <td>570164.03</td>\n",
       "      <td>5.594300e+06</td>\n",
       "      <td>0</td>\n",
       "    </tr>\n",
       "  </tbody>\n",
       "</table>\n",
       "</div>"
      ],
      "text/plain": [
       "       timestamp    open    high    low  close      volume     close_time  \\\n",
       "0  1738137600000  10.636  10.900  9.609  9.893   883986.28  1738141199999   \n",
       "1  1738141200000   9.891  10.478  9.437  9.655  1292366.81  1738144799999   \n",
       "2  1738144800000   9.656   9.858  9.100  9.759  1153439.80  1738148399999   \n",
       "3  1738148400000   9.759   9.857  9.283  9.640   658070.18  1738151999999   \n",
       "4  1738152000000   9.640  10.250  9.419  9.707  1109459.60  1738155599999   \n",
       "\n",
       "   quote_asset_volume  trade_count  taker_buy_base_asset_volume  \\\n",
       "0        8.947995e+06        38337                    460685.34   \n",
       "1        1.284237e+07        63219                    661437.90   \n",
       "2        1.100424e+07        69597                    572467.40   \n",
       "3        6.307598e+06        50421                    337679.30   \n",
       "4        1.088006e+07        74921                    570164.03   \n",
       "\n",
       "   taker_buy_quote_asset_volume  ignore  \n",
       "0                  4.661827e+06       0  \n",
       "1                  6.573672e+06       0  \n",
       "2                  5.469683e+06       0  \n",
       "3                  3.236772e+06       0  \n",
       "4                  5.594300e+06       0  "
      ]
     },
     "execution_count": 8,
     "metadata": {},
     "output_type": "execute_result"
    }
   ],
   "source": [
    "vvv = pd.read_json('VVVUSDT.json' )\n",
    "vvv.columns = columns\n",
    "vvv.head()"
   ]
  },
  {
   "cell_type": "code",
   "execution_count": 31,
   "metadata": {},
   "outputs": [],
   "source": [
    "ohlc = vvv[['open', 'high', 'low', 'close']].to_numpy()"
   ]
  },
  {
   "cell_type": "markdown",
   "metadata": {},
   "source": [
    "# **Tugas Praktikum**"
   ]
  },
  {
   "cell_type": "markdown",
   "metadata": {},
   "source": [
    "Nomor 1: Buatlah matriks 3×3 dengan elemen berupa bilangan berurutan dari 1 hingga 9. Cetak hasilnya."
   ]
  },
  {
   "cell_type": "code",
   "execution_count": 16,
   "metadata": {},
   "outputs": [
    {
     "data": {
      "text/plain": [
       "array([[1, 2, 3],\n",
       "       [4, 5, 6],\n",
       "       [7, 8, 9]])"
      ]
     },
     "execution_count": 16,
     "metadata": {},
     "output_type": "execute_result"
    }
   ],
   "source": [
    "matrix_1_9 = np.array([i for i in range(1,10)]).reshape(3,3)\n",
    "matrix_1_9"
   ]
  },
  {
   "cell_type": "markdown",
   "metadata": {},
   "source": [
    "Nomor 2"
   ]
  },
  {
   "cell_type": "code",
   "execution_count": 17,
   "metadata": {},
   "outputs": [
    {
     "name": "stdout",
     "output_type": "stream",
     "text": [
      "[[ 6  8]\n",
      " [10 12]]\n"
     ]
    }
   ],
   "source": [
    "A = np.array([[1,2], [3,4]])\n",
    "B = np.array([[5,6], [7,8]])\n",
    "print (A+B)"
   ]
  },
  {
   "cell_type": "markdown",
   "metadata": {},
   "source": [
    "Nomor 3"
   ]
  },
  {
   "cell_type": "code",
   "execution_count": 21,
   "metadata": {},
   "outputs": [
    {
     "data": {
      "text/plain": [
       "array([[2, 3],\n",
       "       [4, 5]])"
      ]
     },
     "execution_count": 21,
     "metadata": {},
     "output_type": "execute_result"
    }
   ],
   "source": [
    "C = np.eye(2, dtype=np.int8)\n",
    "D = np.array([[2,3], [4,5]])\n",
    "np.dot(C,D)"
   ]
  },
  {
   "cell_type": "markdown",
   "metadata": {},
   "source": [
    "Nomor 4"
   ]
  },
  {
   "cell_type": "code",
   "execution_count": 22,
   "metadata": {},
   "outputs": [
    {
     "data": {
      "text/plain": [
       "array([[1, 4],\n",
       "       [2, 5],\n",
       "       [3, 6]])"
      ]
     },
     "execution_count": 22,
     "metadata": {},
     "output_type": "execute_result"
    }
   ],
   "source": [
    "E = np.array([[1,2,3], [4,5,6]])\n",
    "E.transpose()"
   ]
  },
  {
   "cell_type": "markdown",
   "metadata": {},
   "source": [
    "Nomor 5"
   ]
  },
  {
   "cell_type": "code",
   "execution_count": 23,
   "metadata": {},
   "outputs": [
    {
     "data": {
      "text/plain": [
       "array([[4.],\n",
       "       [3.]])"
      ]
     },
     "execution_count": 23,
     "metadata": {},
     "output_type": "execute_result"
    }
   ],
   "source": [
    "A = np.array([[1,2], [3,4]])\n",
    "B = np.array([[10], [24]])\n",
    "np.linalg.solve(A, B)"
   ]
  },
  {
   "cell_type": "markdown",
   "metadata": {},
   "source": [
    "Nomor 6"
   ]
  },
  {
   "cell_type": "code",
   "execution_count": 28,
   "metadata": {},
   "outputs": [
    {
     "name": "stdout",
     "output_type": "stream",
     "text": [
      "Hstack: \n",
      "[[1 2 5 6]\n",
      " [3 4 7 8]]\n",
      "Vstack: \n",
      "[[1 2]\n",
      " [3 4]\n",
      " [5 6]\n",
      " [7 8]]\n"
     ]
    }
   ],
   "source": [
    "A = np.array([[1,2],[3,4]])\n",
    "B = np.array([[5,6], [7,8]])\n",
    "\n",
    "print(\"Hstack: \", np.hstack([A,B]), sep='\\n')\n",
    "print(\"Vstack: \", np.vstack([A,B]), sep='\\n')"
   ]
  },
  {
   "cell_type": "markdown",
   "metadata": {},
   "source": [
    "Nomor 7"
   ]
  },
  {
   "cell_type": "code",
   "execution_count": 29,
   "metadata": {},
   "outputs": [
    {
     "name": "stdout",
     "output_type": "stream",
     "text": [
      "2x3: \n",
      " [[1 2 3]\n",
      " [4 5 6]]\n",
      "3x2: \n",
      " [[1 2]\n",
      " [3 4]\n",
      " [5 6]]\n"
     ]
    }
   ],
   "source": [
    "X = np.array([1,2,3,4,5,6])\n",
    "print(\"2x3: \\n\", X.reshape(2,3))\n",
    "print(\"3x2: \\n\", X.reshape(3,2))"
   ]
  },
  {
   "cell_type": "code",
   "execution_count": 34,
   "metadata": {},
   "outputs": [
    {
     "data": {
      "text/plain": [
       "array([[1., 2.],\n",
       "       [3., 4.]])"
      ]
     },
     "execution_count": 34,
     "metadata": {},
     "output_type": "execute_result"
    }
   ],
   "source": []
  }
 ],
 "metadata": {
  "kernelspec": {
   "display_name": ".venv",
   "language": "python",
   "name": "python3"
  },
  "language_info": {
   "codemirror_mode": {
    "name": "ipython",
    "version": 3
   },
   "file_extension": ".py",
   "mimetype": "text/x-python",
   "name": "python",
   "nbconvert_exporter": "python",
   "pygments_lexer": "ipython3",
   "version": "3.13.1"
  }
 },
 "nbformat": 4,
 "nbformat_minor": 2
}
